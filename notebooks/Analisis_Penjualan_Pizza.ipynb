{
  "nbformat": 4,
  "nbformat_minor": 0,
  "metadata": {
    "colab": {
      "provenance": []
    },
    "kernelspec": {
      "name": "python3",
      "display_name": "Python 3"
    },
    "language_info": {
      "name": "python"
    }
  },
  "cells": [
    {
      "cell_type": "markdown",
      "source": [
        "# Memanggil Data"
      ],
      "metadata": {
        "id": "4AnW3e6dBumI"
      }
    },
    {
      "cell_type": "code",
      "execution_count": 1,
      "metadata": {
        "colab": {
          "base_uri": "https://localhost:8080/",
          "height": 206
        },
        "id": "KmnXDQVWR6lm",
        "outputId": "522ccba5-2a79-4f99-a955-3078c1df551d"
      },
      "outputs": [
        {
          "output_type": "execute_result",
          "data": {
            "text/plain": [
              "   order_details_id  order_id       pizza_id  quantity order_date order_time  \\\n",
              "0                 1         1     hawaiian_m         1 2015-01-01   11:38:36   \n",
              "1                 2         2  classic_dlx_m         1 2015-01-01   11:57:40   \n",
              "2                 3         2  five_cheese_l         1 2015-01-01   11:57:40   \n",
              "3                 4         2    ital_supr_l         1 2015-01-01   11:57:40   \n",
              "4                 5         2     mexicana_m         1 2015-01-01   11:57:40   \n",
              "\n",
              "   unit_price  total_price pizza_size pizza_category  \\\n",
              "0       13.25        13.25          M        Classic   \n",
              "1       16.00        16.00          M        Classic   \n",
              "2       18.50        18.50          L         Veggie   \n",
              "3       20.75        20.75          L        Supreme   \n",
              "4       16.00        16.00          M         Veggie   \n",
              "\n",
              "                                   pizza_ingredients  \\\n",
              "0           Sliced Ham, Pineapple, Mozzarella Cheese   \n",
              "1  Pepperoni, Mushrooms, Red Onions, Red Peppers,...   \n",
              "2  Mozzarella Cheese, Provolone Cheese, Smoked Go...   \n",
              "3  Calabrese Salami, Capocollo, Tomatoes, Red Oni...   \n",
              "4  Tomatoes, Red Peppers, Jalapeno Peppers, Red O...   \n",
              "\n",
              "                  pizza_name  \n",
              "0         The Hawaiian Pizza  \n",
              "1   The Classic Deluxe Pizza  \n",
              "2      The Five Cheese Pizza  \n",
              "3  The Italian Supreme Pizza  \n",
              "4         The Mexicana Pizza  "
            ],
            "text/html": [
              "\n",
              "  <div id=\"df-5a9ffcff-8f63-4ed5-a263-1556d1c9d0f0\" class=\"colab-df-container\">\n",
              "    <div>\n",
              "<style scoped>\n",
              "    .dataframe tbody tr th:only-of-type {\n",
              "        vertical-align: middle;\n",
              "    }\n",
              "\n",
              "    .dataframe tbody tr th {\n",
              "        vertical-align: top;\n",
              "    }\n",
              "\n",
              "    .dataframe thead th {\n",
              "        text-align: right;\n",
              "    }\n",
              "</style>\n",
              "<table border=\"1\" class=\"dataframe\">\n",
              "  <thead>\n",
              "    <tr style=\"text-align: right;\">\n",
              "      <th></th>\n",
              "      <th>order_details_id</th>\n",
              "      <th>order_id</th>\n",
              "      <th>pizza_id</th>\n",
              "      <th>quantity</th>\n",
              "      <th>order_date</th>\n",
              "      <th>order_time</th>\n",
              "      <th>unit_price</th>\n",
              "      <th>total_price</th>\n",
              "      <th>pizza_size</th>\n",
              "      <th>pizza_category</th>\n",
              "      <th>pizza_ingredients</th>\n",
              "      <th>pizza_name</th>\n",
              "    </tr>\n",
              "  </thead>\n",
              "  <tbody>\n",
              "    <tr>\n",
              "      <th>0</th>\n",
              "      <td>1</td>\n",
              "      <td>1</td>\n",
              "      <td>hawaiian_m</td>\n",
              "      <td>1</td>\n",
              "      <td>2015-01-01</td>\n",
              "      <td>11:38:36</td>\n",
              "      <td>13.25</td>\n",
              "      <td>13.25</td>\n",
              "      <td>M</td>\n",
              "      <td>Classic</td>\n",
              "      <td>Sliced Ham, Pineapple, Mozzarella Cheese</td>\n",
              "      <td>The Hawaiian Pizza</td>\n",
              "    </tr>\n",
              "    <tr>\n",
              "      <th>1</th>\n",
              "      <td>2</td>\n",
              "      <td>2</td>\n",
              "      <td>classic_dlx_m</td>\n",
              "      <td>1</td>\n",
              "      <td>2015-01-01</td>\n",
              "      <td>11:57:40</td>\n",
              "      <td>16.00</td>\n",
              "      <td>16.00</td>\n",
              "      <td>M</td>\n",
              "      <td>Classic</td>\n",
              "      <td>Pepperoni, Mushrooms, Red Onions, Red Peppers,...</td>\n",
              "      <td>The Classic Deluxe Pizza</td>\n",
              "    </tr>\n",
              "    <tr>\n",
              "      <th>2</th>\n",
              "      <td>3</td>\n",
              "      <td>2</td>\n",
              "      <td>five_cheese_l</td>\n",
              "      <td>1</td>\n",
              "      <td>2015-01-01</td>\n",
              "      <td>11:57:40</td>\n",
              "      <td>18.50</td>\n",
              "      <td>18.50</td>\n",
              "      <td>L</td>\n",
              "      <td>Veggie</td>\n",
              "      <td>Mozzarella Cheese, Provolone Cheese, Smoked Go...</td>\n",
              "      <td>The Five Cheese Pizza</td>\n",
              "    </tr>\n",
              "    <tr>\n",
              "      <th>3</th>\n",
              "      <td>4</td>\n",
              "      <td>2</td>\n",
              "      <td>ital_supr_l</td>\n",
              "      <td>1</td>\n",
              "      <td>2015-01-01</td>\n",
              "      <td>11:57:40</td>\n",
              "      <td>20.75</td>\n",
              "      <td>20.75</td>\n",
              "      <td>L</td>\n",
              "      <td>Supreme</td>\n",
              "      <td>Calabrese Salami, Capocollo, Tomatoes, Red Oni...</td>\n",
              "      <td>The Italian Supreme Pizza</td>\n",
              "    </tr>\n",
              "    <tr>\n",
              "      <th>4</th>\n",
              "      <td>5</td>\n",
              "      <td>2</td>\n",
              "      <td>mexicana_m</td>\n",
              "      <td>1</td>\n",
              "      <td>2015-01-01</td>\n",
              "      <td>11:57:40</td>\n",
              "      <td>16.00</td>\n",
              "      <td>16.00</td>\n",
              "      <td>M</td>\n",
              "      <td>Veggie</td>\n",
              "      <td>Tomatoes, Red Peppers, Jalapeno Peppers, Red O...</td>\n",
              "      <td>The Mexicana Pizza</td>\n",
              "    </tr>\n",
              "  </tbody>\n",
              "</table>\n",
              "</div>\n",
              "    <div class=\"colab-df-buttons\">\n",
              "\n",
              "  <div class=\"colab-df-container\">\n",
              "    <button class=\"colab-df-convert\" onclick=\"convertToInteractive('df-5a9ffcff-8f63-4ed5-a263-1556d1c9d0f0')\"\n",
              "            title=\"Convert this dataframe to an interactive table.\"\n",
              "            style=\"display:none;\">\n",
              "\n",
              "  <svg xmlns=\"http://www.w3.org/2000/svg\" height=\"24px\" viewBox=\"0 -960 960 960\">\n",
              "    <path d=\"M120-120v-720h720v720H120Zm60-500h600v-160H180v160Zm220 220h160v-160H400v160Zm0 220h160v-160H400v160ZM180-400h160v-160H180v160Zm440 0h160v-160H620v160ZM180-180h160v-160H180v160Zm440 0h160v-160H620v160Z\"/>\n",
              "  </svg>\n",
              "    </button>\n",
              "\n",
              "  <style>\n",
              "    .colab-df-container {\n",
              "      display:flex;\n",
              "      gap: 12px;\n",
              "    }\n",
              "\n",
              "    .colab-df-convert {\n",
              "      background-color: #E8F0FE;\n",
              "      border: none;\n",
              "      border-radius: 50%;\n",
              "      cursor: pointer;\n",
              "      display: none;\n",
              "      fill: #1967D2;\n",
              "      height: 32px;\n",
              "      padding: 0 0 0 0;\n",
              "      width: 32px;\n",
              "    }\n",
              "\n",
              "    .colab-df-convert:hover {\n",
              "      background-color: #E2EBFA;\n",
              "      box-shadow: 0px 1px 2px rgba(60, 64, 67, 0.3), 0px 1px 3px 1px rgba(60, 64, 67, 0.15);\n",
              "      fill: #174EA6;\n",
              "    }\n",
              "\n",
              "    .colab-df-buttons div {\n",
              "      margin-bottom: 4px;\n",
              "    }\n",
              "\n",
              "    [theme=dark] .colab-df-convert {\n",
              "      background-color: #3B4455;\n",
              "      fill: #D2E3FC;\n",
              "    }\n",
              "\n",
              "    [theme=dark] .colab-df-convert:hover {\n",
              "      background-color: #434B5C;\n",
              "      box-shadow: 0px 1px 3px 1px rgba(0, 0, 0, 0.15);\n",
              "      filter: drop-shadow(0px 1px 2px rgba(0, 0, 0, 0.3));\n",
              "      fill: #FFFFFF;\n",
              "    }\n",
              "  </style>\n",
              "\n",
              "    <script>\n",
              "      const buttonEl =\n",
              "        document.querySelector('#df-5a9ffcff-8f63-4ed5-a263-1556d1c9d0f0 button.colab-df-convert');\n",
              "      buttonEl.style.display =\n",
              "        google.colab.kernel.accessAllowed ? 'block' : 'none';\n",
              "\n",
              "      async function convertToInteractive(key) {\n",
              "        const element = document.querySelector('#df-5a9ffcff-8f63-4ed5-a263-1556d1c9d0f0');\n",
              "        const dataTable =\n",
              "          await google.colab.kernel.invokeFunction('convertToInteractive',\n",
              "                                                    [key], {});\n",
              "        if (!dataTable) return;\n",
              "\n",
              "        const docLinkHtml = 'Like what you see? Visit the ' +\n",
              "          '<a target=\"_blank\" href=https://colab.research.google.com/notebooks/data_table.ipynb>data table notebook</a>'\n",
              "          + ' to learn more about interactive tables.';\n",
              "        element.innerHTML = '';\n",
              "        dataTable['output_type'] = 'display_data';\n",
              "        await google.colab.output.renderOutput(dataTable, element);\n",
              "        const docLink = document.createElement('div');\n",
              "        docLink.innerHTML = docLinkHtml;\n",
              "        element.appendChild(docLink);\n",
              "      }\n",
              "    </script>\n",
              "  </div>\n",
              "\n",
              "\n",
              "    <div id=\"df-ecf80614-ecad-4f15-bd53-7ef988c42bc0\">\n",
              "      <button class=\"colab-df-quickchart\" onclick=\"quickchart('df-ecf80614-ecad-4f15-bd53-7ef988c42bc0')\"\n",
              "                title=\"Suggest charts\"\n",
              "                style=\"display:none;\">\n",
              "\n",
              "<svg xmlns=\"http://www.w3.org/2000/svg\" height=\"24px\"viewBox=\"0 0 24 24\"\n",
              "     width=\"24px\">\n",
              "    <g>\n",
              "        <path d=\"M19 3H5c-1.1 0-2 .9-2 2v14c0 1.1.9 2 2 2h14c1.1 0 2-.9 2-2V5c0-1.1-.9-2-2-2zM9 17H7v-7h2v7zm4 0h-2V7h2v10zm4 0h-2v-4h2v4z\"/>\n",
              "    </g>\n",
              "</svg>\n",
              "      </button>\n",
              "\n",
              "<style>\n",
              "  .colab-df-quickchart {\n",
              "      --bg-color: #E8F0FE;\n",
              "      --fill-color: #1967D2;\n",
              "      --hover-bg-color: #E2EBFA;\n",
              "      --hover-fill-color: #174EA6;\n",
              "      --disabled-fill-color: #AAA;\n",
              "      --disabled-bg-color: #DDD;\n",
              "  }\n",
              "\n",
              "  [theme=dark] .colab-df-quickchart {\n",
              "      --bg-color: #3B4455;\n",
              "      --fill-color: #D2E3FC;\n",
              "      --hover-bg-color: #434B5C;\n",
              "      --hover-fill-color: #FFFFFF;\n",
              "      --disabled-bg-color: #3B4455;\n",
              "      --disabled-fill-color: #666;\n",
              "  }\n",
              "\n",
              "  .colab-df-quickchart {\n",
              "    background-color: var(--bg-color);\n",
              "    border: none;\n",
              "    border-radius: 50%;\n",
              "    cursor: pointer;\n",
              "    display: none;\n",
              "    fill: var(--fill-color);\n",
              "    height: 32px;\n",
              "    padding: 0;\n",
              "    width: 32px;\n",
              "  }\n",
              "\n",
              "  .colab-df-quickchart:hover {\n",
              "    background-color: var(--hover-bg-color);\n",
              "    box-shadow: 0 1px 2px rgba(60, 64, 67, 0.3), 0 1px 3px 1px rgba(60, 64, 67, 0.15);\n",
              "    fill: var(--button-hover-fill-color);\n",
              "  }\n",
              "\n",
              "  .colab-df-quickchart-complete:disabled,\n",
              "  .colab-df-quickchart-complete:disabled:hover {\n",
              "    background-color: var(--disabled-bg-color);\n",
              "    fill: var(--disabled-fill-color);\n",
              "    box-shadow: none;\n",
              "  }\n",
              "\n",
              "  .colab-df-spinner {\n",
              "    border: 2px solid var(--fill-color);\n",
              "    border-color: transparent;\n",
              "    border-bottom-color: var(--fill-color);\n",
              "    animation:\n",
              "      spin 1s steps(1) infinite;\n",
              "  }\n",
              "\n",
              "  @keyframes spin {\n",
              "    0% {\n",
              "      border-color: transparent;\n",
              "      border-bottom-color: var(--fill-color);\n",
              "      border-left-color: var(--fill-color);\n",
              "    }\n",
              "    20% {\n",
              "      border-color: transparent;\n",
              "      border-left-color: var(--fill-color);\n",
              "      border-top-color: var(--fill-color);\n",
              "    }\n",
              "    30% {\n",
              "      border-color: transparent;\n",
              "      border-left-color: var(--fill-color);\n",
              "      border-top-color: var(--fill-color);\n",
              "      border-right-color: var(--fill-color);\n",
              "    }\n",
              "    40% {\n",
              "      border-color: transparent;\n",
              "      border-right-color: var(--fill-color);\n",
              "      border-top-color: var(--fill-color);\n",
              "    }\n",
              "    60% {\n",
              "      border-color: transparent;\n",
              "      border-right-color: var(--fill-color);\n",
              "    }\n",
              "    80% {\n",
              "      border-color: transparent;\n",
              "      border-right-color: var(--fill-color);\n",
              "      border-bottom-color: var(--fill-color);\n",
              "    }\n",
              "    90% {\n",
              "      border-color: transparent;\n",
              "      border-bottom-color: var(--fill-color);\n",
              "    }\n",
              "  }\n",
              "</style>\n",
              "\n",
              "      <script>\n",
              "        async function quickchart(key) {\n",
              "          const quickchartButtonEl =\n",
              "            document.querySelector('#' + key + ' button');\n",
              "          quickchartButtonEl.disabled = true;  // To prevent multiple clicks.\n",
              "          quickchartButtonEl.classList.add('colab-df-spinner');\n",
              "          try {\n",
              "            const charts = await google.colab.kernel.invokeFunction(\n",
              "                'suggestCharts', [key], {});\n",
              "          } catch (error) {\n",
              "            console.error('Error during call to suggestCharts:', error);\n",
              "          }\n",
              "          quickchartButtonEl.classList.remove('colab-df-spinner');\n",
              "          quickchartButtonEl.classList.add('colab-df-quickchart-complete');\n",
              "        }\n",
              "        (() => {\n",
              "          let quickchartButtonEl =\n",
              "            document.querySelector('#df-ecf80614-ecad-4f15-bd53-7ef988c42bc0 button');\n",
              "          quickchartButtonEl.style.display =\n",
              "            google.colab.kernel.accessAllowed ? 'block' : 'none';\n",
              "        })();\n",
              "      </script>\n",
              "    </div>\n",
              "\n",
              "    </div>\n",
              "  </div>\n"
            ],
            "application/vnd.google.colaboratory.intrinsic+json": {
              "type": "dataframe",
              "variable_name": "pizza",
              "summary": "{\n  \"name\": \"pizza\",\n  \"rows\": 48620,\n  \"fields\": [\n    {\n      \"column\": \"order_details_id\",\n      \"properties\": {\n        \"dtype\": \"number\",\n        \"std\": 14035,\n        \"min\": 1,\n        \"max\": 48620,\n        \"num_unique_values\": 48620,\n        \"samples\": [\n          42519,\n          39006,\n          12784\n        ],\n        \"semantic_type\": \"\",\n        \"description\": \"\"\n      }\n    },\n    {\n      \"column\": \"order_id\",\n      \"properties\": {\n        \"dtype\": \"number\",\n        \"std\": 6180,\n        \"min\": 1,\n        \"max\": 21350,\n        \"num_unique_values\": 21350,\n        \"samples\": [\n          19270,\n          4635,\n          5413\n        ],\n        \"semantic_type\": \"\",\n        \"description\": \"\"\n      }\n    },\n    {\n      \"column\": \"pizza_id\",\n      \"properties\": {\n        \"dtype\": \"category\",\n        \"num_unique_values\": 91,\n        \"samples\": [\n          \"southw_ckn_s\",\n          \"cali_ckn_l\",\n          \"spin_pesto_s\"\n        ],\n        \"semantic_type\": \"\",\n        \"description\": \"\"\n      }\n    },\n    {\n      \"column\": \"quantity\",\n      \"properties\": {\n        \"dtype\": \"number\",\n        \"std\": 0,\n        \"min\": 1,\n        \"max\": 4,\n        \"num_unique_values\": 4,\n        \"samples\": [\n          2,\n          4,\n          1\n        ],\n        \"semantic_type\": \"\",\n        \"description\": \"\"\n      }\n    },\n    {\n      \"column\": \"order_date\",\n      \"properties\": {\n        \"dtype\": \"date\",\n        \"min\": \"2015-01-01 00:00:00\",\n        \"max\": \"2015-12-31 00:00:00\",\n        \"num_unique_values\": 358,\n        \"samples\": [\n          \"2015-08-12 00:00:00\",\n          \"2015-02-12 00:00:00\",\n          \"2015-09-19 00:00:00\"\n        ],\n        \"semantic_type\": \"\",\n        \"description\": \"\"\n      }\n    },\n    {\n      \"column\": \"order_time\",\n      \"properties\": {\n        \"dtype\": \"category\",\n        \"num_unique_values\": 16382,\n        \"samples\": [\n          \"13:48:54\",\n          \"17:35:34\",\n          \"20:21:52\"\n        ],\n        \"semantic_type\": \"\",\n        \"description\": \"\"\n      }\n    },\n    {\n      \"column\": \"unit_price\",\n      \"properties\": {\n        \"dtype\": \"number\",\n        \"std\": 3.6217891586575077,\n        \"min\": 9.75,\n        \"max\": 35.95,\n        \"num_unique_values\": 25,\n        \"samples\": [\n          20.5,\n          17.5,\n          13.25\n        ],\n        \"semantic_type\": \"\",\n        \"description\": \"\"\n      }\n    },\n    {\n      \"column\": \"total_price\",\n      \"properties\": {\n        \"dtype\": \"number\",\n        \"std\": 4.4373975811805755,\n        \"min\": 9.75,\n        \"max\": 83.0,\n        \"num_unique_values\": 56,\n        \"samples\": [\n          13.25,\n          12.75,\n          37.5\n        ],\n        \"semantic_type\": \"\",\n        \"description\": \"\"\n      }\n    },\n    {\n      \"column\": \"pizza_size\",\n      \"properties\": {\n        \"dtype\": \"category\",\n        \"num_unique_values\": 5,\n        \"samples\": [\n          \"L\",\n          \"XXL\",\n          \"S\"\n        ],\n        \"semantic_type\": \"\",\n        \"description\": \"\"\n      }\n    },\n    {\n      \"column\": \"pizza_category\",\n      \"properties\": {\n        \"dtype\": \"category\",\n        \"num_unique_values\": 4,\n        \"samples\": [\n          \"Veggie\",\n          \"Chicken\",\n          \"Classic\"\n        ],\n        \"semantic_type\": \"\",\n        \"description\": \"\"\n      }\n    },\n    {\n      \"column\": \"pizza_ingredients\",\n      \"properties\": {\n        \"dtype\": \"category\",\n        \"num_unique_values\": 32,\n        \"samples\": [\n          \"Chicken, Red Onions, Red Peppers, Mushrooms, Asiago Cheese, Alfredo Sauce\",\n          \"Chicken, Tomatoes, Red Peppers, Red Onions, Jalapeno Peppers, Corn, Cilantro, Chipotle Sauce\",\n          \"Eggplant, Artichokes, Tomatoes, Zucchini, Red Peppers, Garlic, Pesto Sauce\"\n        ],\n        \"semantic_type\": \"\",\n        \"description\": \"\"\n      }\n    },\n    {\n      \"column\": \"pizza_name\",\n      \"properties\": {\n        \"dtype\": \"category\",\n        \"num_unique_values\": 32,\n        \"samples\": [\n          \"The Chicken Alfredo Pizza\",\n          \"The Southwest Chicken Pizza\",\n          \"The Italian Vegetables Pizza\"\n        ],\n        \"semantic_type\": \"\",\n        \"description\": \"\"\n      }\n    }\n  ]\n}"
            }
          },
          "metadata": {},
          "execution_count": 1
        }
      ],
      "source": [
        "import pandas as pd\n",
        "\n",
        "# load\n",
        "pizza = pd.read_excel(\"/content/drive/MyDrive/Colab Notebooks/data/pizza_sales.xlsx\")\n",
        "\n",
        "# cek struktur\n",
        "pizza.head()\n"
      ]
    },
    {
      "cell_type": "markdown",
      "source": [
        "# 1. Pre-processing Data"
      ],
      "metadata": {
        "id": "76afe1Yijb2R"
      }
    },
    {
      "cell_type": "markdown",
      "source": [
        "### Cek missing values"
      ],
      "metadata": {
        "id": "1Oi2_UvbBzuW"
      }
    },
    {
      "cell_type": "code",
      "source": [
        "pizza.isnull().sum()"
      ],
      "metadata": {
        "colab": {
          "base_uri": "https://localhost:8080/",
          "height": 460
        },
        "id": "h_EvpvSbB6Em",
        "outputId": "a23d7897-80bc-43ab-80cd-35b58091543f"
      },
      "execution_count": 2,
      "outputs": [
        {
          "output_type": "execute_result",
          "data": {
            "text/plain": [
              "order_details_id     0\n",
              "order_id             0\n",
              "pizza_id             0\n",
              "quantity             0\n",
              "order_date           0\n",
              "order_time           0\n",
              "unit_price           0\n",
              "total_price          0\n",
              "pizza_size           0\n",
              "pizza_category       0\n",
              "pizza_ingredients    0\n",
              "pizza_name           0\n",
              "dtype: int64"
            ],
            "text/html": [
              "<div>\n",
              "<style scoped>\n",
              "    .dataframe tbody tr th:only-of-type {\n",
              "        vertical-align: middle;\n",
              "    }\n",
              "\n",
              "    .dataframe tbody tr th {\n",
              "        vertical-align: top;\n",
              "    }\n",
              "\n",
              "    .dataframe thead th {\n",
              "        text-align: right;\n",
              "    }\n",
              "</style>\n",
              "<table border=\"1\" class=\"dataframe\">\n",
              "  <thead>\n",
              "    <tr style=\"text-align: right;\">\n",
              "      <th></th>\n",
              "      <th>0</th>\n",
              "    </tr>\n",
              "  </thead>\n",
              "  <tbody>\n",
              "    <tr>\n",
              "      <th>order_details_id</th>\n",
              "      <td>0</td>\n",
              "    </tr>\n",
              "    <tr>\n",
              "      <th>order_id</th>\n",
              "      <td>0</td>\n",
              "    </tr>\n",
              "    <tr>\n",
              "      <th>pizza_id</th>\n",
              "      <td>0</td>\n",
              "    </tr>\n",
              "    <tr>\n",
              "      <th>quantity</th>\n",
              "      <td>0</td>\n",
              "    </tr>\n",
              "    <tr>\n",
              "      <th>order_date</th>\n",
              "      <td>0</td>\n",
              "    </tr>\n",
              "    <tr>\n",
              "      <th>order_time</th>\n",
              "      <td>0</td>\n",
              "    </tr>\n",
              "    <tr>\n",
              "      <th>unit_price</th>\n",
              "      <td>0</td>\n",
              "    </tr>\n",
              "    <tr>\n",
              "      <th>total_price</th>\n",
              "      <td>0</td>\n",
              "    </tr>\n",
              "    <tr>\n",
              "      <th>pizza_size</th>\n",
              "      <td>0</td>\n",
              "    </tr>\n",
              "    <tr>\n",
              "      <th>pizza_category</th>\n",
              "      <td>0</td>\n",
              "    </tr>\n",
              "    <tr>\n",
              "      <th>pizza_ingredients</th>\n",
              "      <td>0</td>\n",
              "    </tr>\n",
              "    <tr>\n",
              "      <th>pizza_name</th>\n",
              "      <td>0</td>\n",
              "    </tr>\n",
              "  </tbody>\n",
              "</table>\n",
              "</div><br><label><b>dtype:</b> int64</label>"
            ]
          },
          "metadata": {},
          "execution_count": 2
        }
      ]
    },
    {
      "cell_type": "markdown",
      "source": [
        "### Cek tipe data"
      ],
      "metadata": {
        "id": "TLc9ryogCHiq"
      }
    },
    {
      "cell_type": "code",
      "source": [
        "pizza.info()"
      ],
      "metadata": {
        "colab": {
          "base_uri": "https://localhost:8080/"
        },
        "id": "kuRCywK5CJxY",
        "outputId": "0d502cfb-a22b-46ee-d370-8315c7098de1"
      },
      "execution_count": 3,
      "outputs": [
        {
          "output_type": "stream",
          "name": "stdout",
          "text": [
            "<class 'pandas.core.frame.DataFrame'>\n",
            "RangeIndex: 48620 entries, 0 to 48619\n",
            "Data columns (total 12 columns):\n",
            " #   Column             Non-Null Count  Dtype         \n",
            "---  ------             --------------  -----         \n",
            " 0   order_details_id   48620 non-null  int64         \n",
            " 1   order_id           48620 non-null  int64         \n",
            " 2   pizza_id           48620 non-null  object        \n",
            " 3   quantity           48620 non-null  int64         \n",
            " 4   order_date         48620 non-null  datetime64[ns]\n",
            " 5   order_time         48620 non-null  object        \n",
            " 6   unit_price         48620 non-null  float64       \n",
            " 7   total_price        48620 non-null  float64       \n",
            " 8   pizza_size         48620 non-null  object        \n",
            " 9   pizza_category     48620 non-null  object        \n",
            " 10  pizza_ingredients  48620 non-null  object        \n",
            " 11  pizza_name         48620 non-null  object        \n",
            "dtypes: datetime64[ns](1), float64(2), int64(3), object(6)\n",
            "memory usage: 4.5+ MB\n"
          ]
        }
      ]
    },
    {
      "cell_type": "markdown",
      "source": [
        "### Mengganti tipe data pada kolom order_time"
      ],
      "metadata": {
        "id": "wrcBQdfPCTLj"
      }
    },
    {
      "cell_type": "code",
      "source": [
        "pizza['order_time'] = pd.to_datetime(pizza['order_time'], format='%H:%M:%S').dt.time"
      ],
      "metadata": {
        "id": "O0WgJ0TmCZRd"
      },
      "execution_count": 4,
      "outputs": []
    },
    {
      "cell_type": "markdown",
      "source": [
        "### Mengganti tipe data pizza_size jadi kategori berurutan"
      ],
      "metadata": {
        "id": "6wGsr9uRCcyD"
      }
    },
    {
      "cell_type": "code",
      "source": [
        "pizza['pizza_size'] = pd.Categorical(\n",
        "    pizza['pizza_size'],\n",
        "    categories=['S','M','L','XL','XXL'],\n",
        "    ordered=True\n",
        ")"
      ],
      "metadata": {
        "id": "9rpxP5MYCj7e"
      },
      "execution_count": 5,
      "outputs": []
    },
    {
      "cell_type": "markdown",
      "source": [
        "# 2. Analisis Penjualan"
      ],
      "metadata": {
        "id": "m1Ckpoahjo_z"
      }
    },
    {
      "cell_type": "markdown",
      "source": [
        "### Pendapatan Bulanan"
      ],
      "metadata": {
        "id": "vSL027l3Djz_"
      }
    },
    {
      "cell_type": "code",
      "source": [
        "# Pendapatan Bulanan\n",
        "monthly_revenue = pizza.groupby(pizza['order_date'].dt.to_period('M'))['total_price'].sum()\n",
        "\n",
        "monthly_revenue.plot(kind='line', figsize=(12,6), marker='o')\n",
        "plt.title('Tren Pendapatan Bulanan')\n",
        "plt.ylabel('Total Revenue ($)')\n",
        "plt.xlabel('Bulan')\n",
        "plt.grid()\n",
        "plt.show()\n",
        "\n",
        "# Total pendapatan\n",
        "total_revenue = pizza['total_price'].sum()\n",
        "print(f\"Total pendapatan keseluruhan: ${total_revenue:,.2f}\")"
      ],
      "metadata": {
        "colab": {
          "base_uri": "https://localhost:8080/",
          "height": 597
        },
        "id": "Th66mx9GDnsr",
        "outputId": "ee5bd692-5e3a-4f13-a8a7-1ec43b285f54"
      },
      "execution_count": 10,
      "outputs": [
        {
          "output_type": "display_data",
          "data": {
            "text/plain": [
              "<Figure size 1200x600 with 1 Axes>"
            ],
            "image/png": "[encoded data removed]"
          },
          "metadata": {}
        },
        {
          "output_type": "stream",
          "name": "stdout",
          "text": [
            "Total pendapatan keseluruhan: $817,860.05\n"
          ]
        }
      ]
    },
    {
      "cell_type": "markdown",
      "source": [
        "### 10 Pizza paling banyak terjual (total jumlah)"
      ],
      "metadata": {
        "id": "i4VoCZfbECkO"
      }
    },
    {
      "cell_type": "code",
      "source": [
        "pizza_counts = pizza.groupby('pizza_name')['quantity'].sum().sort_values(ascending=False)\n",
        "\n",
        "print(\"10 Pizza paling banyak terjual:\")\n",
        "print(pizza_counts.head(10))"
      ],
      "metadata": {
        "colab": {
          "base_uri": "https://localhost:8080/"
        },
        "id": "BmJp83hGEAXv",
        "outputId": "9f3901a2-8827-4c31-94f7-53f4401e6c98"
      },
      "execution_count": 11,
      "outputs": [
        {
          "output_type": "stream",
          "name": "stdout",
          "text": [
            "10 Pizza paling banyak terjual:\n",
            "pizza_name\n",
            "The Classic Deluxe Pizza        2453\n",
            "The Barbecue Chicken Pizza      2432\n",
            "The Hawaiian Pizza              2422\n",
            "The Pepperoni Pizza             2418\n",
            "The Thai Chicken Pizza          2371\n",
            "The California Chicken Pizza    2370\n",
            "The Sicilian Pizza              1938\n",
            "The Spicy Italian Pizza         1924\n",
            "The Southwest Chicken Pizza     1917\n",
            "The Big Meat Pizza              1914\n",
            "Name: quantity, dtype: int64\n"
          ]
        }
      ]
    },
    {
      "cell_type": "markdown",
      "source": [
        "### Kategori pizza terlaris"
      ],
      "metadata": {
        "id": "nnFafn13EHc8"
      }
    },
    {
      "cell_type": "code",
      "source": [
        "category_sales = pizza.groupby('pizza_category')['quantity'].sum().sort_values(ascending=False)\n",
        "\n",
        "category_sales.plot(kind='barh', figsize=(6,4), color='green')\n",
        "plt.title('Penjualan per Kategori Pizza')\n",
        "plt.ylabel('Jumlah Terjual')\n",
        "plt.show()"
      ],
      "metadata": {
        "colab": {
          "base_uri": "https://localhost:8080/",
          "height": 391
        },
        "id": "bLiJW-fCEJou",
        "outputId": "fd177c87-0948-4864-a89e-24ab0ed02f71"
      },
      "execution_count": 14,
      "outputs": [
        {
          "output_type": "display_data",
          "data": {
            "text/plain": [
              "<Figure size 600x400 with 1 Axes>"
            ],
            "image/png": "[encoded data removed]"
          },
          "metadata": {}
        }
      ]
    },
    {
      "cell_type": "markdown",
      "source": [
        "### Ukuran pizza terlaris"
      ],
      "metadata": {
        "id": "i0vRlJA_jyRh"
      }
    },
    {
      "cell_type": "code",
      "source": [
        "size_sales = pizza.groupby('pizza_size')['quantity'].sum().sort_values()\n",
        "\n",
        "size_sales.plot(kind='bar', figsize=(6,4), color='purple')\n",
        "plt.title('Penjualan per Ukuran Pizza')\n",
        "plt.ylabel('Jumlah Terjual')\n",
        "plt.show()"
      ],
      "metadata": {
        "colab": {
          "base_uri": "https://localhost:8080/",
          "height": 458
        },
        "id": "ngAYbTJJEQAF",
        "outputId": "f27a2aa9-9fca-49b8-f582-e97be0547261"
      },
      "execution_count": 13,
      "outputs": [
        {
          "output_type": "stream",
          "name": "stderr",
          "text": [
            "/tmp/ipython-input-13-2909709452.py:1: FutureWarning: The default of observed=False is deprecated and will be changed to True in a future version of pandas. Pass observed=False to retain current behavior or observed=True to adopt the future default and silence this warning.\n",
            "  size_sales = pizza.groupby('pizza_size')['quantity'].sum().sort_values()\n"
          ]
        },
        {
          "output_type": "display_data",
          "data": {
            "text/plain": [
              "<Figure size 600x400 with 1 Axes>"
            ],
            "image/png": "[encoded data removed]"
          },
          "metadata": {}
        }
      ]
    },
    {
      "cell_type": "markdown",
      "source": [
        "### Jam ramai penjualan (peak hours)"
      ],
      "metadata": {
        "id": "XLRRF8fvFG6o"
      }
    },
    {
      "cell_type": "code",
      "source": [
        "# jam dalam bentuk integer\n",
        "pizza['order_hour'] = pd.to_datetime(pizza['order_time'], format='%H:%M:%S').dt.hour\n",
        "\n",
        "hourly_sales = pizza.groupby('order_hour')['quantity'].sum()\n",
        "\n",
        "plt.figure(figsize=(10,5))\n",
        "plt.plot(hourly_sales.index, hourly_sales.values, marker='o')\n",
        "plt.title('Jumlah Pizza Terjual per Jam')\n",
        "plt.xlabel('Jam')\n",
        "plt.ylabel('Jumlah Terjual')\n",
        "plt.xticks(range(0,24))\n",
        "plt.grid()\n",
        "plt.show()"
      ],
      "metadata": {
        "colab": {
          "base_uri": "https://localhost:8080/",
          "height": 487
        },
        "id": "XGjmQyomFjqI",
        "outputId": "151d9050-4cbe-4664-b596-372a9e2b5ee8"
      },
      "execution_count": 15,
      "outputs": [
        {
          "output_type": "display_data",
          "data": {
            "text/plain": [
              "<Figure size 1000x500 with 1 Axes>"
            ],
            "image/png": "[encoded data removed]"
          },
          "metadata": {}
        }
      ]
    },
    {
      "cell_type": "markdown",
      "source": [
        "### Hari penjualan teramai"
      ],
      "metadata": {
        "id": "FhMCtc_jFq4N"
      }
    },
    {
      "cell_type": "code",
      "source": [
        "# nama hari\n",
        "pizza['order_day'] = pizza['order_date'].dt.day_name()\n",
        "\n",
        "day_sales = pizza.groupby('order_day')['quantity'].sum().reindex([\n",
        "    'Monday', 'Tuesday', 'Wednesday', 'Thursday', 'Friday', 'Saturday', 'Sunday'\n",
        "])\n",
        "\n",
        "day_sales.plot(kind='bar', color='teal')\n",
        "plt.title('Jumlah Pizza Terjual per Hari')\n",
        "plt.ylabel('Jumlah Terjual')\n",
        "plt.xticks(rotation=45)\n",
        "plt.show()"
      ],
      "metadata": {
        "colab": {
          "base_uri": "https://localhost:8080/",
          "height": 525
        },
        "id": "JfEgkZSeFtZU",
        "outputId": "bc326802-3a75-4415-c86c-798a7dabef89"
      },
      "execution_count": 16,
      "outputs": [
        {
          "output_type": "display_data",
          "data": {
            "text/plain": [
              "<Figure size 640x480 with 1 Axes>"
            ],
            "image/png": "[encoded data removed]"
          },
          "metadata": {}
        }
      ]
    },
    {
      "cell_type": "markdown",
      "source": [
        "### Bahan pizza yang sering dipakai"
      ],
      "metadata": {
        "id": "HfGVj8FVFvg2"
      }
    },
    {
      "cell_type": "code",
      "source": [
        "from collections import Counter\n",
        "\n",
        "# gabungkan semua ingredient jadi satu string besar\n",
        "all_ingredients = \", \".join(pizza['pizza_ingredients'])\n",
        "\n",
        "# pisahkan berdasarkan koma\n",
        "ingredient_list = [i.strip() for i in all_ingredients.split(\",\")]\n",
        "\n",
        "# hitung frekuensi\n",
        "ingredient_counts = Counter(ingredient_list)\n",
        "\n",
        "# ambil 10 teratas\n",
        "top_10_ingredients = ingredient_counts.most_common(10)\n",
        "\n",
        "# convert ke dataframe biar enak divisualisasikan\n",
        "import pandas as pd\n",
        "\n",
        "top_ingredients_df = pd.DataFrame(top_10_ingredients, columns=['ingredient', 'count'])\n",
        "\n",
        "# plot\n",
        "import matplotlib.pyplot as plt\n",
        "\n",
        "plt.figure(figsize=(8,5))\n",
        "plt.barh(top_ingredients_df['ingredient'], top_ingredients_df['count'], color='tomato')\n",
        "plt.xlabel('Jumlah Muncul di Menu')\n",
        "plt.title('10 Bahan Pizza Paling Sering Digunakan')\n",
        "plt.gca().invert_yaxis()\n",
        "plt.show()"
      ],
      "metadata": {
        "colab": {
          "base_uri": "https://localhost:8080/",
          "height": 487
        },
        "id": "o1jN6OT0Fz5e",
        "outputId": "4d2bfd3e-abea-4400-ae75-467fc433a495"
      },
      "execution_count": 19,
      "outputs": [
        {
          "output_type": "display_data",
          "data": {
            "text/plain": [
              "<Figure size 800x500 with 1 Axes>"
            ],
            "image/png": "[encoded data removed]"
          },
          "metadata": {}
        }
      ]
    },
    {
      "cell_type": "markdown",
      "source": [
        "# 3. Insight dan Rekomendasi menggunakan IBM-Granite"
      ],
      "metadata": {
        "id": "IHWNwgCakBbe"
      }
    },
    {
      "cell_type": "markdown",
      "source": [
        "### Memanggil IBM Granite"
      ],
      "metadata": {
        "id": "xuyNiX53Jndy"
      }
    },
    {
      "cell_type": "code",
      "source": [
        "!pip install -U langchain langchain-community\n",
        "!pip install replicate"
      ],
      "metadata": {
        "colab": {
          "base_uri": "https://localhost:8080/"
        },
        "id": "qBgrc3B8LtbM",
        "outputId": "f12a1505-588c-4cef-bd52-66577d52ef05"
      },
      "execution_count": 27,
      "outputs": [
        {
          "output_type": "stream",
          "name": "stdout",
          "text": [
            "Requirement already satisfied: langchain in /usr/local/lib/python3.11/dist-packages (0.3.26)\n",
            "Requirement already satisfied: langchain-community in /usr/local/lib/python3.11/dist-packages (0.3.26)\n",
            "Requirement already satisfied: langchain-core<1.0.0,>=0.3.66 in /usr/local/lib/python3.11/dist-packages (from langchain) (0.3.66)\n",
            "Requirement already satisfied: langchain-text-splitters<1.0.0,>=0.3.8 in /usr/local/lib/python3.11/dist-packages (from langchain) (0.3.8)\n",
            "Requirement already satisfied: langsmith>=0.1.17 in /usr/local/lib/python3.11/dist-packages (from langchain) (0.4.1)\n",
            "Requirement already satisfied: pydantic<3.0.0,>=2.7.4 in /usr/local/lib/python3.11/dist-packages (from langchain) (2.11.7)\n",
            "Requirement already satisfied: SQLAlchemy<3,>=1.4 in /usr/local/lib/python3.11/dist-packages (from langchain) (2.0.41)\n",
            "Requirement already satisfied: requests<3,>=2 in /usr/local/lib/python3.11/dist-packages (from langchain) (2.32.3)\n",
            "Requirement already satisfied: PyYAML>=5.3 in /usr/local/lib/python3.11/dist-packages (from langchain) (6.0.2)\n",
            "Requirement already satisfied: aiohttp<4.0.0,>=3.8.3 in /usr/local/lib/python3.11/dist-packages (from langchain-community) (3.11.15)\n",
            "Requirement already satisfied: tenacity!=8.4.0,<10,>=8.1.0 in /usr/local/lib/python3.11/dist-packages (from langchain-community) (8.5.0)\n",
            "Requirement already satisfied: dataclasses-json<0.7,>=0.5.7 in /usr/local/lib/python3.11/dist-packages (from langchain-community) (0.6.7)\n",
            "Requirement already satisfied: pydantic-settings<3.0.0,>=2.4.0 in /usr/local/lib/python3.11/dist-packages (from langchain-community) (2.10.1)\n",
            "Requirement already satisfied: httpx-sse<1.0.0,>=0.4.0 in /usr/local/lib/python3.11/dist-packages (from langchain-community) (0.4.1)\n",
            "Requirement already satisfied: numpy>=1.26.2 in /usr/local/lib/python3.11/dist-packages (from langchain-community) (2.0.2)\n",
            "Requirement already satisfied: aiohappyeyeballs>=2.3.0 in /usr/local/lib/python3.11/dist-packages (from aiohttp<4.0.0,>=3.8.3->langchain-community) (2.6.1)\n",
            "Requirement already satisfied: aiosignal>=1.1.2 in /usr/local/lib/python3.11/dist-packages (from aiohttp<4.0.0,>=3.8.3->langchain-community) (1.3.2)\n",
            "Requirement already satisfied: attrs>=17.3.0 in /usr/local/lib/python3.11/dist-packages (from aiohttp<4.0.0,>=3.8.3->langchain-community) (25.3.0)\n",
            "Requirement already satisfied: frozenlist>=1.1.1 in /usr/local/lib/python3.11/dist-packages (from aiohttp<4.0.0,>=3.8.3->langchain-community) (1.7.0)\n",
            "Requirement already satisfied: multidict<7.0,>=4.5 in /usr/local/lib/python3.11/dist-packages (from aiohttp<4.0.0,>=3.8.3->langchain-community) (6.4.4)\n",
            "Requirement already satisfied: propcache>=0.2.0 in /usr/local/lib/python3.11/dist-packages (from aiohttp<4.0.0,>=3.8.3->langchain-community) (0.3.2)\n",
            "Requirement already satisfied: yarl<2.0,>=1.17.0 in /usr/local/lib/python3.11/dist-packages (from aiohttp<4.0.0,>=3.8.3->langchain-community) (1.20.1)\n",
            "Requirement already satisfied: marshmallow<4.0.0,>=3.18.0 in /usr/local/lib/python3.11/dist-packages (from dataclasses-json<0.7,>=0.5.7->langchain-community) (3.26.1)\n",
            "Requirement already satisfied: typing-inspect<1,>=0.4.0 in /usr/local/lib/python3.11/dist-packages (from dataclasses-json<0.7,>=0.5.7->langchain-community) (0.9.0)\n",
            "Requirement already satisfied: jsonpatch<2.0,>=1.33 in /usr/local/lib/python3.11/dist-packages (from langchain-core<1.0.0,>=0.3.66->langchain) (1.33)\n",
            "Requirement already satisfied: packaging<25,>=23.2 in /usr/local/lib/python3.11/dist-packages (from langchain-core<1.0.0,>=0.3.66->langchain) (24.2)\n",
            "Requirement already satisfied: typing-extensions>=4.7 in /usr/local/lib/python3.11/dist-packages (from langchain-core<1.0.0,>=0.3.66->langchain) (4.14.0)\n",
            "Requirement already satisfied: httpx<1,>=0.23.0 in /usr/local/lib/python3.11/dist-packages (from langsmith>=0.1.17->langchain) (0.28.1)\n",
            "Requirement already satisfied: orjson<4.0.0,>=3.9.14 in /usr/local/lib/python3.11/dist-packages (from langsmith>=0.1.17->langchain) (3.10.18)\n",
            "Requirement already satisfied: requests-toolbelt<2.0.0,>=1.0.0 in /usr/local/lib/python3.11/dist-packages (from langsmith>=0.1.17->langchain) (1.0.0)\n",
            "Requirement already satisfied: zstandard<0.24.0,>=0.23.0 in /usr/local/lib/python3.11/dist-packages (from langsmith>=0.1.17->langchain) (0.23.0)\n",
            "Requirement already satisfied: annotated-types>=0.6.0 in /usr/local/lib/python3.11/dist-packages (from pydantic<3.0.0,>=2.7.4->langchain) (0.7.0)\n",
            "Requirement already satisfied: pydantic-core==2.33.2 in /usr/local/lib/python3.11/dist-packages (from pydantic<3.0.0,>=2.7.4->langchain) (2.33.2)\n",
            "Requirement already satisfied: typing-inspection>=0.4.0 in /usr/local/lib/python3.11/dist-packages (from pydantic<3.0.0,>=2.7.4->langchain) (0.4.1)\n",
            "Requirement already satisfied: python-dotenv>=0.21.0 in /usr/local/lib/python3.11/dist-packages (from pydantic-settings<3.0.0,>=2.4.0->langchain-community) (1.1.1)\n",
            "Requirement already satisfied: charset-normalizer<4,>=2 in /usr/local/lib/python3.11/dist-packages (from requests<3,>=2->langchain) (3.4.2)\n",
            "Requirement already satisfied: idna<4,>=2.5 in /usr/local/lib/python3.11/dist-packages (from requests<3,>=2->langchain) (3.10)\n",
            "Requirement already satisfied: urllib3<3,>=1.21.1 in /usr/local/lib/python3.11/dist-packages (from requests<3,>=2->langchain) (2.4.0)\n",
            "Requirement already satisfied: certifi>=2017.4.17 in /usr/local/lib/python3.11/dist-packages (from requests<3,>=2->langchain) (2025.6.15)\n",
            "Requirement already satisfied: greenlet>=1 in /usr/local/lib/python3.11/dist-packages (from SQLAlchemy<3,>=1.4->langchain) (3.2.3)\n",
            "Requirement already satisfied: anyio in /usr/local/lib/python3.11/dist-packages (from httpx<1,>=0.23.0->langsmith>=0.1.17->langchain) (4.9.0)\n",
            "Requirement already satisfied: httpcore==1.* in /usr/local/lib/python3.11/dist-packages (from httpx<1,>=0.23.0->langsmith>=0.1.17->langchain) (1.0.9)\n",
            "Requirement already satisfied: h11>=0.16 in /usr/local/lib/python3.11/dist-packages (from httpcore==1.*->httpx<1,>=0.23.0->langsmith>=0.1.17->langchain) (0.16.0)\n",
            "Requirement already satisfied: jsonpointer>=1.9 in /usr/local/lib/python3.11/dist-packages (from jsonpatch<2.0,>=1.33->langchain-core<1.0.0,>=0.3.66->langchain) (3.0.0)\n",
            "Requirement already satisfied: mypy-extensions>=0.3.0 in /usr/local/lib/python3.11/dist-packages (from typing-inspect<1,>=0.4.0->dataclasses-json<0.7,>=0.5.7->langchain-community) (1.1.0)\n",
            "Requirement already satisfied: sniffio>=1.1 in /usr/local/lib/python3.11/dist-packages (from anyio->httpx<1,>=0.23.0->langsmith>=0.1.17->langchain) (1.3.1)\n",
            "Collecting replicate\n",
            "  Downloading replicate-1.0.7-py3-none-any.whl.metadata (29 kB)\n",
            "Requirement already satisfied: httpx<1,>=0.21.0 in /usr/local/lib/python3.11/dist-packages (from replicate) (0.28.1)\n",
            "Requirement already satisfied: packaging in /usr/local/lib/python3.11/dist-packages (from replicate) (24.2)\n",
            "Requirement already satisfied: pydantic>1.10.7 in /usr/local/lib/python3.11/dist-packages (from replicate) (2.11.7)\n",
            "Requirement already satisfied: typing_extensions>=4.5.0 in /usr/local/lib/python3.11/dist-packages (from replicate) (4.14.0)\n",
            "Requirement already satisfied: anyio in /usr/local/lib/python3.11/dist-packages (from httpx<1,>=0.21.0->replicate) (4.9.0)\n",
            "Requirement already satisfied: certifi in /usr/local/lib/python3.11/dist-packages (from httpx<1,>=0.21.0->replicate) (2025.6.15)\n",
            "Requirement already satisfied: httpcore==1.* in /usr/local/lib/python3.11/dist-packages (from httpx<1,>=0.21.0->replicate) (1.0.9)\n",
            "Requirement already satisfied: idna in /usr/local/lib/python3.11/dist-packages (from httpx<1,>=0.21.0->replicate) (3.10)\n",
            "Requirement already satisfied: h11>=0.16 in /usr/local/lib/python3.11/dist-packages (from httpcore==1.*->httpx<1,>=0.21.0->replicate) (0.16.0)\n",
            "Requirement already satisfied: annotated-types>=0.6.0 in /usr/local/lib/python3.11/dist-packages (from pydantic>1.10.7->replicate) (0.7.0)\n",
            "Requirement already satisfied: pydantic-core==2.33.2 in /usr/local/lib/python3.11/dist-packages (from pydantic>1.10.7->replicate) (2.33.2)\n",
            "Requirement already satisfied: typing-inspection>=0.4.0 in /usr/local/lib/python3.11/dist-packages (from pydantic>1.10.7->replicate) (0.4.1)\n",
            "Requirement already satisfied: sniffio>=1.1 in /usr/local/lib/python3.11/dist-packages (from anyio->httpx<1,>=0.21.0->replicate) (1.3.1)\n",
            "Downloading replicate-1.0.7-py3-none-any.whl (48 kB)\n",
            "\u001b[2K   \u001b[90m━━━━━━━━━━━━━━━━━━━━━━━━━━━━━━━━━━━━━━━━\u001b[0m \u001b[32m48.6/48.6 kB\u001b[0m \u001b[31m2.9 MB/s\u001b[0m eta \u001b[36m0:00:00\u001b[0m\n",
            "\u001b[?25hInstalling collected packages: replicate\n",
            "Successfully installed replicate-1.0.7\n"
          ]
        }
      ]
    },
    {
      "cell_type": "code",
      "source": [
        "from langchain_community.llms import Replicate\n",
        "from google.colab import userdata\n",
        "import textwrap\n",
        "import os\n",
        "\n",
        "# dapet token\n",
        "api_token = userdata.get(\"api_token\")\n",
        "os.environ[\"REPLICATE_API_TOKEN\"] = api_token\n",
        "\n",
        "# definisikan LLM\n",
        "llm = Replicate(\n",
        "    model=\"ibm-granite/granite-3.3-8b-instruct\",\n",
        "    model_kwargs={\n",
        "        \"top_k\": 5,\n",
        "        \"top_p\": 1.0,\n",
        "        \"max_tokens\": 8192,\n",
        "        \"temperature\": 0,\n",
        "        \"repetition_penalty\": 1.0\n",
        "    }\n",
        ")"
      ],
      "metadata": {
        "id": "sI9xJ-_uJt0c"
      },
      "execution_count": 50,
      "outputs": []
    },
    {
      "cell_type": "markdown",
      "source": [
        "### Insight yang dapat diambil dari data pizza sales"
      ],
      "metadata": {
        "id": "igUQ_q--MKDy"
      }
    },
    {
      "cell_type": "code",
      "source": [
        "prompt_insight = f\"\"\"\n",
        "Berikut ringkasan data penjualan pizza:\n",
        "\n",
        "- Total pendapatan: ${total_revenue:,.2f}\n",
        "- Pizza dengan penjualan terbanyak: {pizza_counts.index[0]}\n",
        "- Kategori pizza terlaris: {category_sales.index[0]}\n",
        "- Ukuran pizza paling populer: {size_sales.index[-1]}\n",
        "- Jam penjualan tertinggi: pukul {hourly_sales.idxmax()} dengan {hourly_sales.max()} pizza terjual\n",
        "- Hari dengan penjualan tertinggi: {day_sales.idxmax()} dengan {day_sales.max()} pizza terjual\n",
        "\n",
        "Jelaskan insight data ini dalam gaya bahasa laporan bisnis, dalam 3-4 paragraf.\n",
        "\"\"\"\n",
        "\n",
        "output = llm.invoke(prompt_insight)"
      ],
      "metadata": {
        "id": "IpcgJ23aKIYW"
      },
      "execution_count": 52,
      "outputs": []
    },
    {
      "cell_type": "code",
      "source": [
        "for line in output.split('\\n'):\n",
        "    print(textwrap.fill(line, width=120))"
      ],
      "metadata": {
        "colab": {
          "base_uri": "https://localhost:8080/"
        },
        "id": "jLz7uJQfQbWd",
        "outputId": "58be6d85-aea5-408e-f694-9058c88afead"
      },
      "execution_count": 77,
      "outputs": [
        {
          "output_type": "stream",
          "name": "stdout",
          "text": [
            "**Ringkasan Data Penjualan Pizza**\n",
            "\n",
            "Pada periode ini, toko pizza mencapai pendapatan total sebesar $817,860.05, menunjukkan kinerja yang kuat di pasar.\n",
            "Penjualan terkemuka diperoleh oleh The Classic Deluxe Pizza, yang menunjukkan kebutuhan pelanggan terhadap variasi\n",
            "Classic kategori pizza. Kategori Classic menjadi kategori paling populer, mencatatkan dominasi pasar dengan variasi\n",
            "produk yang tersedia.\n",
            "\n",
            "**Popularitas Ukuran dan Waktu Penjualan**\n",
            "\n",
            "Ukuran pizza L menjadi ukuran paling populer diantara pelanggan, sangat menunjukkan preferensi konsumen terhadap ukuran\n",
            "yang sesuai untuk kebutuhan individu atau kelompok kecil. Dengan ukuran ini, toko dapat memastikan kepuasan pelanggan\n",
            "dan mencapai konsistensi dalam penjualan. Waktu penjualan tertinggi terjadi pada pukul 12 siang, dengan jumlah pizza\n",
            "terjual mencapai 6776 unit, sugges- ting optimalitas waktu operasi dan keseimbangan antara permintaan konsumen dan\n",
            "kemampuan produksi.\n",
            "\n",
            "**Hari dan Jam Penjualan Terbaik**\n",
            "\n",
            "Hari dengan penjualan tertinggi adalah hari Jum'at, dengan jumlah pizza terjual mencapai 8242 unit. Ini menunjukkan\n",
            "bahwa strategi promosi atau aksi spesial pada hari Jum'at dapat sangat efektif dalam meningkatkan penjualan. Penjualan\n",
            "yang tinggi pada hari Jum'at juga mungkin diikuti dengan kegiatan sosial atau kebiasaan masyarakat yang lebih aktif\n",
            "setelah hari bekerja. Selain itu, penjualan terkemuka pada pukul 12 siang menunjukkan potensi untuk menerapkan strategi\n",
            "promosi atau aksi spesial pada waktu ini untuk mencapai penjualan lebih tinggi.\n",
            "\n",
            "**Insight dan Rekomendasi**\n",
            "\n",
            "Berdasarkan data penjualan, toko pizza harus mendorong pengembangan variasi produk Classic kategori, karena keterlibatan\n",
            "konsumen yang signifikan. Pastikan ukuran pizza L terus dijaga dan mendapatkan perhatian dalam promosi. Strategi yang\n",
            "efektif untuk meningkatkan penjualan adalah menerapkan aksi spesial atau diskon pada hari Jum'at dan pada waktu pukul 12\n",
            "siang, ketika permintaan paling tinggi. Selain itu, analisis lanjutan terhadap pola pembelian konsumen dapat membantu\n",
            "dalam pengembangan strategi pemasaran yang lebih spesifik, seperti program lebih lanjut untuk pelanggan yang\n",
            "berkelanjutan atau kolaborasi dengan perusahaan lain untuk menawarkan paket makan siang yang komprehensif. Dengan\n",
            "menerapkan insight ini, toko pizza dapat mencapai kinerja yang lebih optimal dan meningkatkan posisi pasar.\n"
          ]
        }
      ]
    },
    {
      "cell_type": "markdown",
      "source": [
        "### Rekomendasi untuk toko pizza berdasarkan data penjualan"
      ],
      "metadata": {
        "id": "Lk9fNko5SUBU"
      }
    },
    {
      "cell_type": "code",
      "source": [
        "prompt_recommend = f\"\"\"\n",
        "Berdasarkan data berikut:\n",
        "\n",
        "- Pizza terlaris: {pizza_counts.index[0]}\n",
        "- Kategori terlaris: {category_sales.index[0]}\n",
        "- Ukuran terpopuler: {size_sales.index[-1]}\n",
        "- Waktu penjualan tertinggi: pukul {hourly_sales.idxmax()} dan hari {day_sales.idxmax()}\n",
        "\n",
        "Beri saya rekomendasi bisnis yang actionable (spesifik dan dapat ditindaklanjuti)\n",
        "untuk meningkatkan penjualan pizza ke depan.\n",
        "Tuliskan rekomendasi dalam 3-4 paragraf.\n",
        "\"\"\"\n",
        "\n",
        "output1 = llm.invoke(prompt_recommend)"
      ],
      "metadata": {
        "id": "ZHGc8tIgScu4"
      },
      "execution_count": 67,
      "outputs": []
    },
    {
      "cell_type": "code",
      "source": [
        "for line in output1.split('\\n'):\n",
        "    print(textwrap.fill(line, width=120))"
      ],
      "metadata": {
        "colab": {
          "base_uri": "https://localhost:8080/"
        },
        "id": "7vyzhNv7Sksm",
        "outputId": "73ff3749-ed83-4f89-a6ee-c83aebc17fc7"
      },
      "execution_count": 76,
      "outputs": [
        {
          "output_type": "stream",
          "name": "stdout",
          "text": [
            "Berdasarkan data yang diberikan, berikut adalah beberapa rekomendasi bisnis spesifik dan dapat ditindaklanjuti untuk\n",
            "meningkatkan penjualan pizza ke depan:\n",
            "\n",
            "1. **Memperkuat Kategori Classic dengan Variasi Produk**: Karena kategori Classic adalah kategori terlaris, coba\n",
            "mengembangkan variasi produk dalam kategori ini untuk menarik pelanggan lebih lanjut. Misalnya, Anda dapat membuat\n",
            "Classic Deluxe Pizza dengan topping tambahan saat ini yang populer, seperti caraian bacon, ayam goreng, atau selera\n",
            "vegan dengan topping seperti kentang, jagung, dan tofu. Pastikan untuk menyajikan merek tersebut prominen di menu dan\n",
            "promosi, serta memastikan kualitas dan konstanan rasa yang tinggi.\n",
            "\n",
            "2. **Optimasi Ukuran dan Promosi Spesial Hari Friday**: Ukuran terpopuler adalah L, jadi pastikan Anda mempromosikan\n",
            "ukuran tersebut sebagai pilihan default atau memberikan diskon kepada pelanggan yang memilih ukuran L. Selain itu,\n",
            "karena penjualan tertinggi pada pukul 12 dan hari Jumat, Anda dapat mengembangkan promosi spesial seperti \"Jumat Malam\n",
            "Murah\" dengan diskon 10-15% selama waktu penjualan tertinggi. Hal ini tidak hanya menarik pelanggan, tetapi juga\n",
            "membantu mengurangi stok yang mungkin terlalu tebal pada hari tersebut.\n",
            "\n",
            "3. **Strategi Pemasaran Berfokus**: Penting untuk menekankan The Classic Deluxe Pizza sebagai produk terlaris di semua\n",
            "platform pemasaran. Pastikan informasi tentang popularitas dan waktu penjualan tertinggi tersebut terintegrasi di\n",
            "website, media sosial, dan iklan tradisional. Anda juga dapat mengembangkan kampanye story-driven di media sosial yang\n",
            "menunjukkan pelanggan yang genap dengan Classic Deluxe Pizza, serta menarik perhatian dengan caption yang menarik,\n",
            "seperti \"Jangan ragu, Classic Deluxe Pizza adalah pilihan terbaik untuk siang hari atau malam hari Jumat!\"\n",
            "\n",
            "Dengan menerapkan rekomendasi ini, bisnis pizza Anda dapat mencapai penjualan yang lebih tinggi, menarik pelanggan baru,\n",
            "dan meningkatkan kepuasan pelanggan yang sudah ada. Pastikan untuk memonitor hasil dan menyesuaikan strategi berdasarkan\n",
            "respons pelanggan dan tren pasar.\n"
          ]
        }
      ]
    },
    {
      "cell_type": "markdown",
      "source": [
        "# 4. Saran Improvisasi Penjualan dengan Market Basket Analysis"
      ],
      "metadata": {
        "id": "CNRaVTaBYkUk"
      }
    },
    {
      "cell_type": "markdown",
      "source": [
        "### Jumlah item per transaksi (jumlah pizza dalam satu order)"
      ],
      "metadata": {
        "id": "AFdcBVO1jFeu"
      }
    },
    {
      "cell_type": "code",
      "source": [
        "order_pizza['n_items'] = order_pizza['pizza_name'].apply(len)\n",
        "print(order_pizza['n_items'].value_counts())"
      ],
      "metadata": {
        "colab": {
          "base_uri": "https://localhost:8080/"
        },
        "id": "F5uPMoyqddNO",
        "outputId": "bdee66ac-00c5-4cef-9c4d-edbaf72af858"
      },
      "execution_count": 85,
      "outputs": [
        {
          "output_type": "stream",
          "name": "stdout",
          "text": [
            "n_items\n",
            "1     8201\n",
            "2     6196\n",
            "3     3325\n",
            "4     2888\n",
            "5      144\n",
            "8       83\n",
            "7       75\n",
            "6       75\n",
            "12      71\n",
            "11      69\n",
            "9       65\n",
            "10      59\n",
            "13      52\n",
            "14      38\n",
            "15       7\n",
            "21       2\n",
            "Name: count, dtype: int64\n"
          ]
        }
      ]
    },
    {
      "cell_type": "markdown",
      "source": [
        "### Market Basket Analysis (Association Rule Mining) dengan Apriori Algorithm."
      ],
      "metadata": {
        "id": "gCKwoJ6jlUzc"
      }
    },
    {
      "cell_type": "code",
      "source": [
        "from mlxtend.frequent_patterns import apriori, association_rules\n",
        "from mlxtend.preprocessing import TransactionEncoder\n",
        "\n",
        "# filter hanya order >= 2 item\n",
        "multi_item_order = order_pizza[order_pizza['pizza_name'].apply(len) >= 2]\n",
        "\n",
        "# encode transaksi\n",
        "te = TransactionEncoder()\n",
        "te_array = te.fit(multi_item_order['pizza_name']).transform(multi_item_order['pizza_name'])\n",
        "df_basket = pd.DataFrame(te_array, columns=te.columns_)\n",
        "\n",
        "# jalankan apriori\n",
        "frequent_itemsets = apriori(df_basket, min_support=0.001, use_colnames=True)\n",
        "\n",
        "# rules dengan confidence minimal 0.1\n",
        "rules = association_rules(frequent_itemsets, metric=\"confidence\", min_threshold=0.1)\n",
        "\n",
        "rules.sort_values('lift', ascending=False, inplace=True)\n",
        "print(rules[['antecedents','consequents','support','confidence','lift']].head(10))"
      ],
      "metadata": {
        "colab": {
          "base_uri": "https://localhost:8080/"
        },
        "id": "ji-YHs5RYLb6",
        "outputId": "c8ba1698-92e8-4b13-f5e5-d42bba08347e"
      },
      "execution_count": 84,
      "outputs": [
        {
          "output_type": "stream",
          "name": "stdout",
          "text": [
            "                                            antecedents  \\\n",
            "6741      (The Pepper Salami Pizza, The Big Meat Pizza)   \n",
            "6847   (The Spinach Pesto Pizza, The Four Cheese Pizza)   \n",
            "6830     (The Pepperoni Pizza, The Chicken Pesto Pizza)   \n",
            "6824  (The California Chicken Pizza, The Italian Cap...   \n",
            "6943         (The Sicilian Pizza, The Napolitana Pizza)   \n",
            "6845      (The Spinach Pesto Pizza, The Hawaiian Pizza)   \n",
            "6846  (The Spinach Pesto Pizza, The Classic Deluxe P...   \n",
            "6825  (The Italian Capocollo Pizza, The Italian Supr...   \n",
            "6831  (The Southwest Chicken Pizza, The Chicken Pest...   \n",
            "6823  (The Italian Capocollo Pizza, The Thai Chicken...   \n",
            "\n",
            "                                            consequents   support  confidence  \\\n",
            "6741     (The Sicilian Pizza, The Classic Deluxe Pizza)  0.001141    0.141509   \n",
            "6847     (The Hawaiian Pizza, The Classic Deluxe Pizza)  0.001141    0.159574   \n",
            "6830  (The Southwest Chicken Pizza, The Classic Delu...  0.001065    0.119658   \n",
            "6824  (The Italian Supreme Pizza, The Thai Chicken P...  0.001369    0.122449   \n",
            "6943  (The Southwest Chicken Pizza, The Classic Delu...  0.001141    0.117188   \n",
            "6845  (The Classic Deluxe Pizza, The Four Cheese Pizza)  0.001141    0.131579   \n",
            "6846        (The Hawaiian Pizza, The Four Cheese Pizza)  0.001141    0.127119   \n",
            "6825  (The California Chicken Pizza, The Thai Chicke...  0.001369    0.141732   \n",
            "6831    (The Pepperoni Pizza, The Classic Deluxe Pizza)  0.001065    0.147368   \n",
            "6823  (The California Chicken Pizza, The Italian Sup...  0.001369    0.111111   \n",
            "\n",
            "          lift  \n",
            "6741  8.496381  \n",
            "6847  8.293457  \n",
            "6830  8.194712  \n",
            "6824  8.090862  \n",
            "6943  8.025513  \n",
            "6845  7.828650  \n",
            "6846  7.738347  \n",
            "6825  7.732937  \n",
            "6831  7.720109  \n",
            "6823  7.609375  \n"
          ]
        }
      ]
    },
    {
      "cell_type": "markdown",
      "source": [
        "### 10 kombinasi terkuat"
      ],
      "metadata": {
        "id": "J3m0eFNClfti"
      }
    },
    {
      "cell_type": "code",
      "source": [
        "rules_sorted = rules.sort_values(\n",
        "    by=['lift', 'confidence', 'support'],\n",
        "    ascending=False\n",
        ")\n",
        "top_rules = rules_sorted.head(10)\n",
        "print(top_rules)"
      ],
      "metadata": {
        "colab": {
          "base_uri": "https://localhost:8080/"
        },
        "id": "1mtxMoTxfyso",
        "outputId": "2d1a3fd1-647c-46c9-ab73-7786bb5a9f3a"
      },
      "execution_count": 99,
      "outputs": [
        {
          "output_type": "stream",
          "name": "stdout",
          "text": [
            "                                            antecedents  \\\n",
            "6741      (The Pepper Salami Pizza, The Big Meat Pizza)   \n",
            "6847   (The Spinach Pesto Pizza, The Four Cheese Pizza)   \n",
            "6830     (The Pepperoni Pizza, The Chicken Pesto Pizza)   \n",
            "6824  (The California Chicken Pizza, The Italian Cap...   \n",
            "6943         (The Sicilian Pizza, The Napolitana Pizza)   \n",
            "6845      (The Spinach Pesto Pizza, The Hawaiian Pizza)   \n",
            "6846  (The Spinach Pesto Pizza, The Classic Deluxe P...   \n",
            "6825  (The Italian Capocollo Pizza, The Italian Supr...   \n",
            "6831  (The Southwest Chicken Pizza, The Chicken Pest...   \n",
            "6823  (The Italian Capocollo Pizza, The Thai Chicken...   \n",
            "\n",
            "                                            consequents  antecedent support  \\\n",
            "6741     (The Sicilian Pizza, The Classic Deluxe Pizza)            0.008061   \n",
            "6847     (The Hawaiian Pizza, The Classic Deluxe Pizza)            0.007149   \n",
            "6830  (The Southwest Chicken Pizza, The Classic Delu...            0.008898   \n",
            "6824  (The Italian Supreme Pizza, The Thai Chicken P...            0.011180   \n",
            "6943  (The Southwest Chicken Pizza, The Classic Delu...            0.009735   \n",
            "6845  (The Classic Deluxe Pizza, The Four Cheese Pizza)            0.008670   \n",
            "6846        (The Hawaiian Pizza, The Four Cheese Pizza)            0.008974   \n",
            "6825  (The California Chicken Pizza, The Thai Chicke...            0.009659   \n",
            "6831    (The Pepperoni Pizza, The Classic Deluxe Pizza)            0.007225   \n",
            "6823  (The California Chicken Pizza, The Italian Sup...            0.012320   \n",
            "\n",
            "      consequent support   support  confidence      lift  representativity  \\\n",
            "6741            0.016655  0.001141    0.141509  8.496381               1.0   \n",
            "6847            0.019241  0.001141    0.159574  8.293457               1.0   \n",
            "6830            0.014602  0.001065    0.119658  8.194712               1.0   \n",
            "6824            0.015134  0.001369    0.122449  8.090862               1.0   \n",
            "6943            0.014602  0.001141    0.117188  8.025513               1.0   \n",
            "6845            0.016807  0.001141    0.131579  7.828650               1.0   \n",
            "6846            0.016427  0.001141    0.127119  7.738347               1.0   \n",
            "6825            0.018328  0.001369    0.141732  7.732937               1.0   \n",
            "6831            0.019089  0.001065    0.147368  7.720109               1.0   \n",
            "6823            0.014602  0.001369    0.111111  7.609375               1.0   \n",
            "\n",
            "      leverage  conviction  zhangs_metric   jaccard  certainty  kulczynski  \n",
            "6741  0.001007    1.145435       0.889473  0.048387   0.126969    0.105001  \n",
            "6847  0.001003    1.166979       0.885755  0.045181   0.143087    0.109432  \n",
            "6830  0.000935    1.119336       0.885852  0.047458   0.106613    0.096287  \n",
            "6824  0.001200    1.122289       0.886312  0.054878   0.108964    0.106451  \n",
            "6943  0.000999    1.116203       0.884003  0.049180   0.104106    0.097656  \n",
            "6845  0.000995    1.132161       0.879893  0.046875   0.116734    0.099726  \n",
            "6846  0.000993    1.126812       0.878659  0.047022   0.112540    0.098282  \n",
            "6825  0.001192    1.143783       0.879175  0.051429   0.125708    0.108211  \n",
            "6831  0.000927    1.150451       0.876803  0.042169   0.130776    0.101573  \n",
            "6823  0.001189    1.108573       0.879418  0.053571   0.097939    0.102431  \n"
          ]
        }
      ]
    },
    {
      "cell_type": "markdown",
      "source": [
        "### Insight dan rekomendasi yang dapat diperoleh dari hasil market basket analysis"
      ],
      "metadata": {
        "id": "13XNNOvalkhD"
      }
    },
    {
      "cell_type": "code",
      "source": [
        "prompt = f\"\"\"\n",
        "Berikut adalah hasil 10 kombinasi menu pizza yang paling sering dibeli bersamaan:\n",
        "\n",
        "{top_rules[['antecedents','consequents','support','confidence','lift']].to_string()}\n",
        "\n",
        "Tolong jelaskan insight dan rekomendasi bisnis dan rekomendasi promosi berdasarkan pola kombinasi menu di atas\n",
        "dengan gaya bahasa indonesia yang profesional.\n",
        "\"\"\"\n",
        "\n",
        "output2 = llm.invoke(prompt)"
      ],
      "metadata": {
        "id": "C4A3K2BodgbF"
      },
      "execution_count": 102,
      "outputs": []
    },
    {
      "cell_type": "code",
      "source": [
        "for line in output2.split('\\n'):\n",
        "    print(textwrap.fill(line, width=120))"
      ],
      "metadata": {
        "colab": {
          "base_uri": "https://localhost:8080/"
        },
        "id": "J7-5duOkZH4B",
        "outputId": "785c6e2e-5b6e-4e87-947f-5bede1cb0a6e"
      },
      "execution_count": 103,
      "outputs": [
        {
          "output_type": "stream",
          "name": "stdout",
          "text": [
            "Dari data kombinasi menu pizza yang paling sering dibeli bersamaan, dapat diambil beberapa insight dan rekomendasi\n",
            "bisnis:\n",
            "\n",
            "1. **Korelasi antara pizza-pizza**: Ada beberapa kombinasi pizza yang sering dibeli bersama, seperti:\n",
            "   - The Pepper Salami Pizza dan The Big Meat Pizza (sering dibeli bersama dengan The Sicilian Pizza dan The Classic\n",
            "Deluxe Pizza)\n",
            "   - The Spinach Pesto Pizza dan The Four Cheese Pizza (sering dibeli bersama dengan The Hawaiian Pizza dan The Classic\n",
            "Deluxe Pizza)\n",
            "   - The Pepperoni Pizza dan The Chicken Pesto Pizza (sering dibeli bersama dengan The Southwest Chicken Pizza dan The\n",
            "Classic Deluxe Pizza)\n",
            "   - Lainnya: (The Italian Capocollo Pizza, The Italian Supreme Pizza; The California Chicken Pizza, The Thai Chicken\n",
            "Pizza)\n",
            "\n",
            "2. **Kemungkinan upselling**: Dari insight di atas, dapat diambil rekomendasi untuk upselling atau cross-selling dengan\n",
            "menawarkan kombinasi pizza yang sering dibeli bersamaan. Misalnya, jika pelanggan memilih The Pepper Salami Pizza,\n",
            "mereka juga mungkin tertarik dengan The Sicilian Pizza atau The Classic Deluxe Pizza.\n",
            "\n",
            "3. **Strategi promosi**: Berdasarkan pola kombinasi menu, bisnis dapat mengembangkan promosi spesifik untuk\n",
            "menggabungkan pizza yang sering dibeli bersama. Contohnya, bisnis dapat menawarkan diskon atau paket promosi untuk\n",
            "pembelian kombinasi pizza tertentu, seperti \"Paket Deluxe\" yang mencakup The Classic Deluxe Pizza dengan satu pizza\n",
            "tambahan gratis (misalnya, The Spinach Pesto Pizza).\n",
            "\n",
            "4. **Pengembangan menu**: Dengan melihat kombinasi pizza yang populer, bisnis dapat mempertimbangkan untuk mengembangkan\n",
            "menu baru yang menggabungkan topping atau bahan yang sering dibeli bersama. Misalnya, bisnis dapat membuat pizza baru\n",
            "yang menggabungkan topping dari The Pepper Salami Pizza dan The Big Meat Pizza, atau The Spinach Pesto Pizza dan The\n",
            "Four Cheese Pizza.\n",
            "\n",
            "5. **Optimasi penampilan menu**: Pastikan menu di rak atau dalam aplikasi digital dapat menampilkan kombinasi pizza yang\n",
            "sering dibeli bersamaan dengan jelaskan keuntungan atau kenapa mereka sering dibeli bersama. Ini dapat membantu\n",
            "pelanggan membuat pilihan yang lebih informasi dan meningkatkan kepuasan mereka.\n",
            "\n",
            "6. **Analisis demografis**: Jika data demografis pelanggan tersedia, bisnis dapat mengeksplorasi apakah pola kombinasi\n",
            "menu pizza berkaitan dengan tingkat kegemaran tertentu, seperti preferensi makanan tertentu, diet, atau kebiasaan makan.\n",
            "Ini dapat membantu bisnis mengembangkan strategi targeting yang lebih efektif.\n",
            "\n",
            "Dalam hal rekomendasi promosi, bisnis dapat membuat kampanye seperti:\n",
            "\n",
            "- **Paket Promosi Kombinasi Pizza**: Menawarkan diskon atau paket promosi untuk pembelian kombinasi pizza yang sering\n",
            "dibeli bersama. Misalnya, \"Paket Deluxe\" yang mencakup The Classic Deluxe Pizza dengan satu pizza tambahan gratis\n",
            "(misalnya, The Spinach Pesto Pizza).\n",
            "\n",
            "- **Hari Spesial Kombinasi Pizza**: Mengadakan hari spesial atau waktu promosi khusus untuk kombinasi pizza yang\n",
            "populer, seperti \"Hari Pizza Sicilian & Classic Deluxe\" dengan diskon atau hadiah gratis.\n",
            "\n",
            "- **Program VIP/Loyalitas**: Membuat program VIP atau loyalitas yang memberikan poin atau diskon khusus untuk pelanggan\n",
            "yang sering memilih kombinasi pizza tertentu.\n",
            "\n",
            "- **Sosial Media dan Email Marketing**: Menggunakan platform sosial media dan email marketing untuk mengembangkan\n",
            "kampanye yang menarik perhatian terhadap kombinasi pizza yang populer, dengan menjelaskan keuntungan dan meningkatkan\n",
            "desain visual menu tersebut.\n",
            "\n",
            "Dengan menerapkan insight dan rekomendasi ini, bisnis dapat meningkatkan penjualan, kepuasan pelanggan, dan loyalitas\n",
            "mereka.\n"
          ]
        }
      ]
    }
  ]
}